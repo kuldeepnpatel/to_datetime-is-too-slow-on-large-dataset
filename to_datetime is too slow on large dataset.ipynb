{
 "cells": [
  {
   "cell_type": "markdown",
   "metadata": {
    "_uuid": "8f937b3afb7046188f7de6c05c9b523a74631d50"
   },
   "source": [
    "**Large Dataset**"
   ]
  },
  {
   "cell_type": "code",
   "execution_count": null,
   "metadata": {
    "_cell_guid": "b1076dfc-b9ad-4769-8c92-a6c4dae69d19",
    "_uuid": "8f2839f25d086af736a60e9eeb907d3b93b6e0e5"
   },
   "outputs": [],
   "source": [
    "# data processing, CSV file I/O\n",
    "import pandas as pd"
   ]
  },
  {
   "cell_type": "code",
   "execution_count": null,
   "metadata": {
    "_uuid": "f501a01237e55c41525b62531d4cd4601a3c90d5"
   },
   "outputs": [],
   "source": [
    "#Load the data\n",
    "data=pd.read_csv(\"../input/train.csv\",nrows = 3000000)\n",
    "print(data.shape)\n",
    "data.head(3)"
   ]
  },
  {
   "cell_type": "code",
   "execution_count": null,
   "metadata": {
    "_uuid": "ef6fe22b324b085214a7d3287da65814d1dbdc4c"
   },
   "outputs": [],
   "source": [
    "# Type of pickup_datetime is an object\n",
    "data['pickup_datetime'].dtypes "
   ]
  },
  {
   "cell_type": "code",
   "execution_count": null,
   "metadata": {
    "_uuid": "d2737748e200ae4ba42c2f20d18098e42d6ba389"
   },
   "outputs": [],
   "source": [
    "#convert data type of pickup_datetime object to datetime\n",
    "print(\"Execution Time without setting the parameter infer_datetime_format as True\")\n",
    "%timeit pd.to_datetime(data['pickup_datetime'])"
   ]
  },
  {
   "cell_type": "code",
   "execution_count": null,
   "metadata": {},
   "outputs": [],
   "source": [
    "#Execution Time without setting the parameter infer_datetime_format as True\n",
    "#6min 20s ± 755 ms per loop (mean ± std. dev. of 7 runs, 1 loop each)"
   ]
  },
  {
   "cell_type": "markdown",
   "metadata": {
    "_uuid": "aabe3a6323b78b4c29a88336cfd9754874504857"
   },
   "source": [
    "**Why to_datetime is too slow?**:-\n",
    "\n",
    "In this instance, pandas falls back to dateutil.parser.parse for parsing the strings when no format string is supplied (more flexible, but also slower).\n",
    "\n",
    "What does Parser mean? :-\n",
    "A parser is a compiler or interpreter component that breaks data into smaller elements for easy translation into another language. A parser takes input in the form of a sequence of tokens or program instructions and usually builds a data structure in the form of a parse tree or an abstract syntax tree. (ref.techopedia)\n",
    "\n",
    "Enhancements :-\n",
    "pd.to_datetime learned a new infer_datetime_format keyword which greatly improves parsing perf in many cases.\n",
    "\n",
    "* *We can improve the performance with the help of parameter  infer_datetime_format*\n",
    " \n",
    "**infer_datetime_format** :- boolean, default False\n",
    "\n",
    "If True and no format is given, attempt to infer the format of the datetime strings, and if it can be inferred, switch to a faster method of parsing them. In some cases this can increase the parsing speed by ~5-10x.\n",
    "\n",
    "**timeit**:- Measure the  execution time\n",
    "\n",
    "(ref.:pandas.pydata.org)"
   ]
  },
  {
   "cell_type": "code",
   "execution_count": null,
   "metadata": {
    "_uuid": "97a3090fa5c85ee3462d10608ad5bb2f2026cdaa"
   },
   "outputs": [],
   "source": [
    "#Load the data again and use parameter infer_datetime_format=True\n",
    "data=pd.read_csv(\"../input/train.csv\",nrows = 3000000)\n",
    "print(data.shape)\n",
    "data.head(3)"
   ]
  },
  {
   "cell_type": "code",
   "execution_count": null,
   "metadata": {
    "_uuid": "062147a703a0f8df0c772055385dbf8588bb3acb"
   },
   "outputs": [],
   "source": [
    "# Type of pickup_datetime is an object\n",
    "data['pickup_datetime'].dtypes "
   ]
  },
  {
   "cell_type": "code",
   "execution_count": null,
   "metadata": {
    "_uuid": "6216948bb509a537c77ac078f59f5b02b111dcfb"
   },
   "outputs": [],
   "source": [
    "#convert data type of pickup_datetime, object to datetime\n",
    "# Use Parameter infer_datetime_format and set it as True\n",
    "print(\"Execution Time with the help of parameter infer_datetime_format=True\")\n",
    "%timeit pd.to_datetime(data['pickup_datetime'],infer_datetime_format=True)"
   ]
  },
  {
   "cell_type": "code",
   "execution_count": null,
   "metadata": {},
   "outputs": [],
   "source": [
    "#Execution Time with the help of parameter infer_datetime_format=True\n",
    "#10.6 s ± 109 ms per loop (mean ± std. dev. of 7 runs, 1 loop each)"
   ]
  },
  {
   "cell_type": "markdown",
   "metadata": {
    "_uuid": "2f79175b6cf1bdb14d58f2e06e7c9f7bf26dc8a0"
   },
   "source": [
    "If we observe Execution Time without setting the parameter infer_datetime_format as True, It is around 6 min and If we set it as True, it takes few seconds  for execution."
   ]
  }
 ],
 "metadata": {
  "kernelspec": {
   "display_name": "Python 3",
   "language": "python",
   "name": "python3"
  },
  "language_info": {
   "codemirror_mode": {
    "name": "ipython",
    "version": 3
   },
   "file_extension": ".py",
   "mimetype": "text/x-python",
   "name": "python",
   "nbconvert_exporter": "python",
   "pygments_lexer": "ipython3",
   "version": "3.6.5"
  }
 },
 "nbformat": 4,
 "nbformat_minor": 1
}
